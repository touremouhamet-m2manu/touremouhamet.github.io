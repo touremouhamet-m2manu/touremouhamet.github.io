{
 "cells": [
  {
   "cell_type": "markdown",
   "id": "218528a6",
   "metadata": {},
   "source": [
    "# Programme permettant la selection de potentiel Benzenoide\n",
    "## Mouhamet TOURE "
   ]
  },
  {
   "cell_type": "code",
   "execution_count": 1,
   "id": "5bb90a3f",
   "metadata": {},
   "outputs": [],
   "source": [
    "#Importation des libreries\n",
    "import re\n",
    "import math"
   ]
  },
  {
   "cell_type": "code",
   "execution_count": 2,
   "id": "0743b795",
   "metadata": {},
   "outputs": [],
   "source": [
    "#Extraction du nombre de carbone n et d'hydrogene m a partir d'une FB CnHm \n",
    "def parse_formula(formula):\n",
    "    \"\"\"Extrait les valeurs de n (carbones) et m (hydrogènes) à partir de la formule brute CnHm.\"\"\"\n",
    "    match = re.match(r'C(\\d+)H(\\d+)', formula)\n",
    "    if match:\n",
    "        n = int(match.group(1))  # Nombre de carbone\n",
    "        m = int(match.group(2))  # Nombre d'hydrogène\n",
    "        return n, m\n",
    "    return None, None"
   ]
  },
  {
   "cell_type": "code",
   "execution_count": 3,
   "id": "19ea3e69",
   "metadata": {},
   "outputs": [],
   "source": [
    "#Calcul du nombre d'hexagone:\n",
    "\"\"\" A partir de deux relations j'ai trouver h = (n - m + 2 )/2 : (1) n = 4h + 2 - n_i\n",
    "                                 (2) m = 2h + 4 - n_i\n",
    "                        avec n: nombre de carbone, number of external vertices of degree two = m: nbre d'hydrogene,\n",
    "                            n_i: nbre de sommets internes,\n",
    "                            h: nbre d'hexagone\"\"\"\n",
    "def calculate_hexagons(n, m):\n",
    "    \"\"\"Calcule le nombre d'hexagones (h) à partir de la formule donnée.\"\"\"\n",
    "    h = (n - m + 2) / 2\n",
    "    return h"
   ]
  },
  {
   "cell_type": "code",
   "execution_count": 4,
   "id": "cd8182a2",
   "metadata": {},
   "outputs": [],
   "source": [
    "#Definire la plage du nombre de carbone pour tous les hexagones c'est a dire h = 2, 3, ...\n",
    "\"\"\" Pour definir la plage de n pour chaque valeur de h, on pose cette operation de HARARY and HARBORTH (1976): \n",
    "                    2h + 1 - {sqrt(12h - 3)} <= n <= 4h + 1 , avec {2.3} = 3 \"\"\"\n",
    "def is_benzenoid(n, m, h):\n",
    "    \"\"\"Vérifie si la formule correspond à un benzenoïde selon la relation donnée.\"\"\"\n",
    "    if 12 * h - 3 >= 0:  # Vérification pour éviter la racine carrée de nombres négatifs\n",
    "        if 2 * h + 1 + math.ceil(math.sqrt(12 * h - 3)) <= n <= 4 * h + 2:\n",
    "            return True\n",
    "    return False"
   ]
  },
  {
   "cell_type": "code",
   "execution_count": 5,
   "id": "58464d93",
   "metadata": {},
   "outputs": [],
   "source": [
    "#Traitement et stockage dans un fichier.txt\n",
    "def process_formulas(input_filename, output_filename):\n",
    "    \"\"\"Traite le fichier de formules et calcule h pour chaque formule, puis vérifie si c'est un benzenoïde.\"\"\"\n",
    "    with open(input_filename, 'r') as file, open(output_filename, 'w') as output_file:\n",
    "        output_file.write(\"Formules brutes correspondant aux benzénoïdes et leur nombre d'occurrences:\\n\")\n",
    "        for line in file:\n",
    "            formula = line.strip()\n",
    "            n, m = parse_formula(formula)\n",
    "            if n is not None and m is not None:\n",
    "                h = calculate_hexagons(n, m)\n",
    "                if h.is_integer():  # Si h est un entier\n",
    "                    h = int(h)\n",
    "                    if is_benzenoid(n, m, h):\n",
    "                        output_file.write(f\"{formula}: Potentiel Benzenoide (hexagones: {h})\\n\")\n"
   ]
  },
  {
   "cell_type": "code",
   "execution_count": 6,
   "id": "f2525042",
   "metadata": {},
   "outputs": [
    {
     "name": "stdout",
     "output_type": "stream",
     "text": [
      "Résultats enregistrés dans benzenoides_resultats_phdb-v4.00_neutre_CH.txt\n"
     ]
    }
   ],
   "source": [
    "# Exemple d'utilisation avec les fichiers phdb-v3.20&v4.00_neutre_CH.txt extrait dans la base de donnees de la NASA \n",
    "input_filename = \"phdb-v4.00_neutre_CH.txt\"\n",
    "output_filename = \"benzenoides_resultats_phdb-v4.00_neutre_CH.txt\"\n",
    "process_formulas(input_filename, output_filename)\n",
    "\n",
    "print(f\"Résultats enregistrés dans {output_filename}\")"
   ]
  },
  {
   "cell_type": "code",
   "execution_count": null,
   "id": "3c5502fb",
   "metadata": {},
   "outputs": [],
   "source": []
  }
 ],
 "metadata": {
  "kernelspec": {
   "display_name": "Python 3 (ipykernel)",
   "language": "python",
   "name": "python3"
  },
  "language_info": {
   "codemirror_mode": {
    "name": "ipython",
    "version": 3
   },
   "file_extension": ".py",
   "mimetype": "text/x-python",
   "name": "python",
   "nbconvert_exporter": "python",
   "pygments_lexer": "ipython3",
   "version": "3.11.9"
  }
 },
 "nbformat": 4,
 "nbformat_minor": 5
}
